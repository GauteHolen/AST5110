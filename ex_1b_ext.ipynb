{
 "cells": [
  {
   "cell_type": "markdown",
   "metadata": {},
   "source": [
    "# A calculation of the order of convergence when the limit value is unknown"
   ]
  },
  {
   "cell_type": "markdown",
   "metadata": {},
   "source": [
    "## _This problem is an optional extension of the previous exercise sheets_"
   ]
  },
  {
   "cell_type": "markdown",
   "metadata": {},
   "source": [
    "Assume we have determined numerically an approximate value $f_{\\Delta x}$ of a function (for example, of a derivative) using a numerical mesh with grid cells $\\Delta x$. We say that a numerical approximation converges toward a limit value $f_{lim}$ with $m$-order approximation if we can write to leading order for all $\\Delta x$ which are sufficiently small."
   ]
  },
  {
   "cell_type": "markdown",
   "metadata": {},
   "source": [
    "$$f_{\\Delta x} = f_{lim} + A(\\Delta x)^m  \\tag{1}$$"
   ]
  },
  {
   "cell_type": "markdown",
   "metadata": {},
   "source": [
    "with $A$ a constant. If the global domain in $x$ has length $L$ and has been divided into $N$ intervals (so that  $\\Delta x = L/N$), then we have:"
   ]
  },
  {
   "cell_type": "markdown",
   "metadata": {},
   "source": [
    "$$f_N = f_{lim} + A\\left(\\frac{L}{N}\\right)^m  \\tag{2}$$"
   ]
  },
  {
   "cell_type": "markdown",
   "metadata": {},
   "source": [
    "From there it is straightforward to obtain:"
   ]
  },
  {
   "cell_type": "markdown",
   "metadata": {},
   "source": [
    "$$\\frac{f_{4N}-f_{2N}}{f_{2N}-f_{N}} = \\frac{4^{m}-2^{m}}{2^{m}-1} = 2^{m}  \\tag{3}$$"
   ]
  },
  {
   "cell_type": "markdown",
   "metadata": {},
   "source": [
    "or, in other words,"
   ]
  },
  {
   "cell_type": "markdown",
   "metadata": {},
   "source": [
    "$$m = \\log\\left(\\frac{f_{4N}-f_{2N}}{f_{2N}-f_{N}}\\right)/\\log2  \\tag{4}$$"
   ]
  },
  {
   "cell_type": "markdown",
   "metadata": {},
   "source": [
    "with log the natural logarithm. Thus, if we obtain a numerical value for a function at a given point with increasing order of approximation using $N$, $2N$, and $4N$ intervals in a given domain, we can calculate the order $m$ of the approximation using Eq. (4) without having to know in advance the exact analytical limit value. Test this method with `np.deriv_cent` and `np.deriv_4tho` and fill in `nm.order_conv`."
   ]
  },
  {
   "cell_type": "code",
   "execution_count": 3,
   "metadata": {},
   "outputs": [
    {
     "name": "stdout",
     "output_type": "stream",
     "text": [
      "[-0.95136715 -0.9549736  -0.95849504 -0.96198979 -0.96551415 -0.96912642\n",
      " -0.97289132 -0.97688545 -0.98120476 -0.98597591 -0.99137444 -0.99765578\n",
      " -1.00521189 -1.01468228 -1.02719278 -1.04493518 -1.07283322 -1.12475512\n",
      " -1.2609214  -2.95580075 -0.51432686 -0.76968281 -0.84251928 -0.87767127\n",
      " -0.89877321 -0.9131223  -0.92371871 -0.93202518 -0.93884225 -0.94464704\n",
      " -0.94974383 -0.95433815 -0.95857638 -0.96256841 -0.96640149 -0.97014935\n",
      " -0.97387878 -0.97765498 -0.98154666 -0.9856317  -0.99000448 -0.99478642\n",
      " -1.00014236 -1.00630817 -1.01363999 -1.02270898 -1.03450048 -1.05088229\n",
      " -1.07589159 -1.12019999 -1.22435989 -1.8179366  -0.33150037 -0.74984782\n",
      " -0.8410722  -0.88186397 -0.90545475 -0.92114752 -0.93257385 -0.94144737\n",
      " -0.94868505 -0.95482464 -0.96020511 -0.96505372 -0.96953173 -0.97376036\n",
      " -0.97783661 -0.98184369 -0.98585873 -0.98995939 -0.99423048 -0.998772\n",
      " -1.00371019 -1.00921448 -1.01552557 -1.02300564 -1.03223467 -1.0442133\n",
      " -1.0608407  -1.08623223 -1.13131559 -1.2380104  -1.86942033 -0.35983511\n",
      " -0.76151395 -0.85145495 -0.89197921 -0.91552184 -0.93123956 -0.94272291\n",
      " -0.95167143 -0.95899695 -0.96523579 -0.97072733 -0.97570042 -0.98031894\n",
      " -0.98470783 -0.98896912 -0.9931929  -0.99746574 -1.00187854 -1.00653507\n",
      " -1.01156331 -1.01713219 -1.02347894 -1.03095735 -1.04012991 -1.05195998\n",
      " -1.06826038 -1.09291371 -1.13604036 -1.23505589 -1.74415719 -0.27363281\n",
      " -0.75861105 -0.85581901 -0.89845813 -0.92292002 -0.93913338 -0.95092412\n",
      " -0.96008367 -0.96756608 -0.97392951 -0.97952584 -0.98459168 -0.98929629\n",
      " -0.99376867 -0.99811444 -1.00242719 -1.00679745 -1.01132101 -1.01610826\n",
      " -1.02129672 -1.02706978 -1.03368794 -1.04154471 -1.05127532 -1.06398893\n",
      " -1.08182757 -1.10955582 -1.16038791 -1.28985237 -2.52677484 -0.51317249\n",
      " -0.79902348 -0.87660473 -0.91353517 -0.93559298 -0.95057529 -0.9616533\n",
      " -0.97036343 -0.97754372 -0.98369345 -0.98913193 -0.99407661 -0.99868471\n",
      " -1.00307738 -1.0073547  -1.01160624 -1.01591925 -1.0203866  -1.0251157\n",
      " -1.03024054 -1.03593979 -1.04246676 -1.05020304 -1.05976206 -1.07220868\n",
      " -1.08958293 -1.11636806 -1.16475043 -1.28379559 -2.16451792 -0.4658662\n",
      " -0.79804559 -0.88129036 -0.91996019 -0.9427567  -0.95810359 -0.96937164\n",
      " -0.97817657 -0.9853926  -0.99153676 -0.9969373  -1.00181563 -1.00632982\n",
      " -1.01059948 -1.01472095 -1.01877751 -1.02284704 -1.02700857 -1.03134917\n",
      " -1.03597225 -1.04100924 -1.04663761 -1.05311108 -1.06081377 -1.07036542\n",
      " -1.08284487 -1.10032449 -1.12737393 -1.17647816 -1.29843817 -2.25379026\n",
      " -0.48861425 -0.80939331 -0.89141709 -0.92971108 -0.95232155 -0.96754255\n",
      " -0.97870589 -0.98741206 -0.99452786 -1.0005658  -1.00585064 -1.01060047\n",
      " -1.0149698  -1.01907393 -1.02300386 -1.02683592 -1.03063874 -1.03447873\n",
      " -1.03842531 -1.04255655 -1.04696641 -1.05177504 -1.05714467 -1.06330615\n",
      " -1.07060601 -1.07959629 -1.09122129 -1.10725092 -1.13144874 -1.17350381\n",
      " -1.2683544  -1.71697984 -0.21388287 -0.78465525 -0.88858561 -0.93311035\n",
      " -0.95830446 -0.97481798 -0.98669937 -0.99582685 -1.00319278 -1.00937273\n",
      " -1.01472533 -1.01948762 -1.0238245  -1.02785647 -1.03167602 -1.03535802\n",
      " -1.03896677 -1.04256124 -1.04619943 -1.04994256]\n"
     ]
    }
   ],
   "source": [
    "import numpy as np\n",
    "import nm_lib as nm\n",
    "import matplotlib.pyplot as plt\n",
    "\n",
    "nump = 256\n",
    "x0 = -4\n",
    "xf = 10.0\n",
    "\n",
    "\"\"\"\n",
    "def h(x):\n",
    "    return x**2\n",
    "\"\"\"\n",
    "\n",
    "def h(x):\n",
    "    return np.cos(np.pi*(x-1)*0.5)*np.exp(-((x-3)/2.5)**2)\n",
    "\n",
    "def ana(x):\n",
    "    return np.exp(-0.16*(x-3)**2)*((0.96-0.32*x)*np.sin(np.pi*0.5*x)+1.5708*np.cos(np.pi*x*0.5))\n",
    "\n",
    "xx = np.linspace(x0,xf,nump+1)\n",
    "xx2 = np.linspace(x0,xf,2*nump+1)\n",
    "xx4 = np.linspace(x0,xf,4*nump +1)\n",
    "\n",
    "hh = h(xx)\n",
    "hh2 = h(xx2)\n",
    "hh4 = h(xx4)\n",
    "\n",
    "dhdx = nm.deriv_dnw(xx,hh)\n",
    "dhdx2 = nm.deriv_dnw(xx2,hh2)\n",
    "dhdx4 = nm.deriv_dnw(xx4,hh4)\n",
    "\n",
    "m = nm.order_conv(dhdx,dhdx2,dhdx4)\n",
    "\n",
    "print(m)\n",
    "\n"
   ]
  },
  {
   "cell_type": "code",
   "execution_count": 4,
   "metadata": {},
   "outputs": [
    {
     "name": "stdout",
     "output_type": "stream",
     "text": [
      "(257,)\n",
      "[0.00021945 0.00054231 0.         0.         0.         0.\n",
      " 0.         0.         0.         0.         0.         0.\n",
      " 0.         0.         0.         0.         0.         0.\n",
      " 0.         0.         0.         0.         0.         0.\n",
      " 0.         0.         0.         0.         0.         0.\n",
      " 0.         0.         0.         0.         0.         0.\n",
      " 0.         0.         0.         0.         0.         0.\n",
      " 0.         0.         0.         0.         0.         0.\n",
      " 0.         0.         0.         0.         0.         0.\n",
      " 0.         0.         0.         0.         0.         0.\n",
      " 0.         0.         0.         0.         0.         0.\n",
      " 0.         0.         0.         0.         0.         0.\n",
      " 0.         0.         0.         0.         0.         0.\n",
      " 0.         0.         0.         0.         0.         0.\n",
      " 0.         0.         0.         0.         0.         0.\n",
      " 0.         0.         0.         0.         0.         0.\n",
      " 0.         0.         0.         0.         0.         0.\n",
      " 0.         0.         0.         0.         0.         0.\n",
      " 0.         0.         0.         0.         0.         0.\n",
      " 0.         0.         0.         0.         0.         0.\n",
      " 0.         0.         0.         0.         0.         0.\n",
      " 0.         0.         0.         0.         0.         0.\n",
      " 0.         0.         0.         0.         0.         0.\n",
      " 0.         0.         0.         0.         0.         0.\n",
      " 0.         0.         0.         0.         0.         0.\n",
      " 0.         0.         0.         0.         0.         0.\n",
      " 0.         0.         0.         0.         0.         0.\n",
      " 0.         0.         0.         0.         0.         0.\n",
      " 0.         0.         0.         0.         0.         0.\n",
      " 0.         0.         0.         0.         0.         0.\n",
      " 0.         0.         0.         0.         0.         0.\n",
      " 0.         0.         0.         0.         0.         0.\n",
      " 0.         0.         0.         0.         0.         0.\n",
      " 0.         0.         0.         0.         0.         0.\n",
      " 0.         0.         0.         0.         0.         0.\n",
      " 0.         0.         0.         0.         0.         0.\n",
      " 0.         0.         0.         0.         0.         0.\n",
      " 0.         0.         0.         0.         0.         0.\n",
      " 0.         0.         0.         0.         0.         0.\n",
      " 0.         0.         0.         0.         0.         0.\n",
      " 0.         0.         0.         0.         0.         0.\n",
      " 0.         0.         0.         0.         0.         0.\n",
      " 0.         0.         0.         0.         0.        ]\n",
      "[ 2.19450299e-04  5.42310648e-04  6.34053888e-04  7.71362171e-04\n",
      "  9.24873454e-04  1.09481881e-03  1.28108836e-03  1.48315866e-03\n",
      "  1.70001485e-03  1.93006845e-03  2.17107199e-03  2.42003197e-03\n",
      "  2.67312190e-03  2.92559763e-03  3.17171749e-03  3.40466999e-03\n",
      "  3.61651240e-03  3.79812355e-03  3.93917478e-03  4.02812288e-03\n",
      "  4.05222926e-03  3.99760965e-03  3.84931837e-03  3.59147147e-03\n",
      "  3.20741250e-03  2.67992438e-03  1.99149034e-03  1.12460618e-03\n",
      "  6.21451953e-05 -1.21222390e-03 -2.71356685e-03 -4.45516381e-03\n",
      " -6.44794315e-03 -8.69987445e-03 -1.12153279e-02 -1.39944093e-02\n",
      " -1.70322809e-02 -2.03184825e-02 -2.38362656e-02 -2.75619580e-02\n",
      " -3.14643781e-02 -3.55043160e-02 -3.96341041e-02 -4.37972978e-02\n",
      " -4.79284883e-02 -5.19532691e-02 -5.57883776e-02 -5.93420308e-02\n",
      " -6.25144748e-02 -6.51987620e-02 -6.72817693e-02 -6.86454659e-02\n",
      " -6.91684340e-02 -6.87276433e-02 -6.72004703e-02 -6.44669512e-02\n",
      " -6.04122484e-02 -5.49293053e-02 -4.79216545e-02 -3.93063412e-02\n",
      " -2.90169142e-02 -1.70064303e-02 -3.25041512e-03  1.22502862e-02\n",
      "  2.94668349e-02  4.83399732e-02  6.87779205e-02  9.06546640e-02\n",
      "  1.13808715e-01  1.38042402e-01  1.63121757e-01  1.88777059e-01\n",
      "  2.14704081e-01  2.40566070e-01  2.65996493e-01  2.90602561e-01\n",
      "  3.13969512e-01  3.35665652e-01  3.55248100e-01  3.72269188e-01\n",
      "  3.86283447e-01  3.96855072e-01  4.03565777e-01  4.06022907e-01\n",
      "  4.03867670e-01  3.96783340e-01  3.84503279e-01  3.66818603e-01\n",
      "  3.43585336e-01  3.14730873e-01  2.80259591e-01  2.40257466e-01\n",
      "  1.94895518e-01  1.44431997e-01  8.92131602e-02  2.96725755e-02\n",
      " -3.36711184e-02 -1.00218035e-01 -1.69292447e-01 -2.40149754e-01\n",
      " -3.11984946e-01 -3.83942490e-01 -4.55127486e-01 -5.24617976e-01\n",
      " -5.91478187e-01 -6.54772528e-01 -7.13580100e-01 -7.67009459e-01\n",
      " -8.14213391e-01 -8.54403412e-01 -8.86863725e-01 -9.10964354e-01\n",
      " -9.26173210e-01 -9.32066819e-01 -9.28339495e-01 -9.14810757e-01\n",
      " -8.91430798e-01 -8.58283891e-01 -8.15589614e-01 -7.63701831e-01\n",
      " -7.03105426e-01 -6.34410797e-01 -5.58346198e-01 -4.75748023e-01\n",
      " -3.87549201e-01 -2.94765881e-01 -1.98482652e-01 -9.98365255e-02\n",
      "  3.33066907e-16  9.98365255e-02  1.98482652e-01  2.94765881e-01\n",
      "  3.87549201e-01  4.75748023e-01  5.58346198e-01  6.34410797e-01\n",
      "  7.03105426e-01  7.63701831e-01  8.15589614e-01  8.58283891e-01\n",
      "  8.91430798e-01  9.14810757e-01  9.28339495e-01  9.32066819e-01\n",
      "  9.26173210e-01  9.10964354e-01  8.86863725e-01  8.54403412e-01\n",
      "  8.14213391e-01  7.67009459e-01  7.13580100e-01  6.54772528e-01\n",
      "  5.91478187e-01  5.24617976e-01  4.55127486e-01  3.83942490e-01\n",
      "  3.11984946e-01  2.40149754e-01  1.69292447e-01  1.00218035e-01\n",
      "  3.36711184e-02 -2.96725755e-02 -8.92131602e-02 -1.44431997e-01\n",
      " -1.94895518e-01 -2.40257466e-01 -2.80259591e-01 -3.14730873e-01\n",
      " -3.43585336e-01 -3.66818603e-01 -3.84503279e-01 -3.96783340e-01\n",
      " -4.03867670e-01 -4.06022907e-01 -4.03565777e-01 -3.96855072e-01\n",
      " -3.86283447e-01 -3.72269188e-01 -3.55248100e-01 -3.35665652e-01\n",
      " -3.13969512e-01 -2.90602561e-01 -2.65996493e-01 -2.40566070e-01\n",
      " -2.14704081e-01 -1.88777059e-01 -1.63121757e-01 -1.38042402e-01\n",
      " -1.13808715e-01 -9.06546640e-02 -6.87779205e-02 -4.83399732e-02\n",
      " -2.94668349e-02 -1.22502862e-02  3.25041512e-03  1.70064303e-02\n",
      "  2.90169142e-02  3.93063412e-02  4.79216545e-02  5.49293053e-02\n",
      "  6.04122484e-02  6.44669512e-02  6.72004703e-02  6.87276433e-02\n",
      "  6.91684340e-02  6.86454659e-02  6.72817693e-02  6.51987620e-02\n",
      "  6.25144748e-02  5.93420308e-02  5.57883776e-02  5.19532691e-02\n",
      "  4.79284883e-02  4.37972978e-02  3.96341041e-02  3.55043160e-02\n",
      "  3.14643781e-02  2.75619580e-02  2.38362656e-02  2.03184825e-02\n",
      "  1.70322809e-02  1.39944093e-02  1.12153279e-02  8.69987445e-03\n",
      "  6.44794315e-03  4.45516381e-03  2.71356685e-03  1.21222390e-03\n",
      " -6.21451953e-05 -1.12460618e-03 -1.99149034e-03 -2.67992438e-03\n",
      " -3.20741250e-03 -3.59147147e-03 -3.84931837e-03 -3.99760965e-03\n",
      " -4.05222926e-03 -4.02812288e-03 -3.93917478e-03 -3.79812355e-03\n",
      " -3.61651240e-03 -3.40466999e-03 -3.17171749e-03 -2.92559763e-03\n",
      " -2.67312190e-03 -2.42003197e-03 -2.17107199e-03 -1.93006845e-03\n",
      " -1.70001485e-03 -1.48315866e-03 -1.28108836e-03 -1.09481881e-03\n",
      " -9.24873454e-04 -7.71362171e-04 -6.34053888e-04  0.00000000e+00\n",
      "  0.00000000e+00]\n",
      "[ 3.34400455e-04  8.26378130e-04  9.66177352e-04  1.17540902e-03\n",
      "  1.40933098e-03  1.66829533e-03  1.95213464e-03  2.26005129e-03\n",
      "  2.59049882e-03  2.94105668e-03  3.30830018e-03  3.68766777e-03\n",
      "  4.07332861e-03  4.45805353e-03  4.83309332e-03  5.18806856e-03\n",
      "  5.51087603e-03  5.78761684e-03  6.00255205e-03  6.13809200e-03\n",
      "  6.17482554e-03  6.09159566e-03  5.86562799e-03  5.47271844e-03\n",
      "  4.88748572e-03  4.08369430e-03  3.03465195e-03  1.71368561e-03\n",
      "  9.46974405e-05 -1.84719832e-03 -4.13495900e-03 -6.78882104e-03\n",
      " -9.82543718e-03 -1.32569515e-02 -1.70900235e-02 -2.13248141e-02\n",
      " -2.59539518e-02 -3.09614972e-02 -3.63219285e-02 -4.19991741e-02\n",
      " -4.79457191e-02 -5.41018149e-02 -6.03948253e-02 -6.67387395e-02\n",
      " -7.30338869e-02 -7.91668863e-02 -8.50108611e-02 -9.04259516e-02\n",
      " -9.52601521e-02 -9.93504945e-02 -1.02524601e-01 -1.04602615e-01\n",
      " -1.05399518e-01 -1.04727837e-01 -1.02400717e-01 -9.82353542e-02\n",
      " -9.20567595e-02 -8.37017986e-02 -7.30234735e-02 -5.98953771e-02\n",
      " -4.42162502e-02 -2.59145605e-02 -4.95301351e-03  1.86671028e-02\n",
      "  4.49018437e-02  7.36609116e-02  1.04804450e-01  1.38140440e-01\n",
      "  1.73422804e-01  2.10350327e-01  2.48566487e-01  2.87660281e-01\n",
      "  3.27168124e-01  3.66576868e-01  4.05327990e-01  4.42822951e-01\n",
      "  4.78429733e-01  5.11490517e-01  5.41330437e-01  5.67267334e-01\n",
      "  5.88622395e-01  6.04731538e-01  6.14957374e-01  6.18701573e-01\n",
      "  6.15417402e-01  6.04622233e-01  5.85909759e-01  5.58961681e-01\n",
      "  5.23558608e-01  4.79589901e-01  4.27062235e-01  3.66106614e-01\n",
      "  2.96983647e-01  2.20086853e-01  1.35943863e-01  4.52153531e-02\n",
      " -5.13083709e-02 -1.52713196e-01 -2.57969443e-01 -3.65942482e-01\n",
      " -4.75405632e-01 -5.85055222e-01 -6.93527598e-01 -7.99417868e-01\n",
      " -9.01300094e-01 -9.97748615e-01 -1.08736015e+00 -1.16877632e+00\n",
      " -1.24070612e+00 -1.30194806e+00 -1.35141139e+00 -1.38813616e+00\n",
      " -1.41131156e+00 -1.42029230e+00 -1.41461256e+00 -1.39399734e+00\n",
      " -1.35837074e+00 -1.30786117e+00 -1.24280322e+00 -1.16373612e+00\n",
      " -1.07139874e+00 -9.66721214e-01 -8.50813254e-01 -7.24949369e-01\n",
      " -5.90551163e-01 -4.49167057e-01 -3.02449755e-01 -1.52131848e-01\n",
      "  5.07530526e-16  1.52131848e-01  3.02449755e-01  4.49167057e-01\n",
      "  5.90551163e-01  7.24949369e-01  8.50813254e-01  9.66721214e-01\n",
      "  1.07139874e+00  1.16373612e+00  1.24280322e+00  1.30786117e+00\n",
      "  1.35837074e+00  1.39399734e+00  1.41461256e+00  1.42029230e+00\n",
      "  1.41131156e+00  1.38813616e+00  1.35141139e+00  1.30194806e+00\n",
      "  1.24070612e+00  1.16877632e+00  1.08736015e+00  9.97748615e-01\n",
      "  9.01300094e-01  7.99417868e-01  6.93527598e-01  5.85055222e-01\n",
      "  4.75405632e-01  3.65942482e-01  2.57969443e-01  1.52713196e-01\n",
      "  5.13083709e-02 -4.52153531e-02 -1.35943863e-01 -2.20086853e-01\n",
      " -2.96983647e-01 -3.66106614e-01 -4.27062235e-01 -4.79589901e-01\n",
      " -5.23558608e-01 -5.58961681e-01 -5.85909759e-01 -6.04622233e-01\n",
      " -6.15417402e-01 -6.18701573e-01 -6.14957374e-01 -6.04731538e-01\n",
      " -5.88622395e-01 -5.67267334e-01 -5.41330437e-01 -5.11490517e-01\n",
      " -4.78429733e-01 -4.42822951e-01 -4.05327990e-01 -3.66576868e-01\n",
      " -3.27168124e-01 -2.87660281e-01 -2.48566487e-01 -2.10350327e-01\n",
      " -1.73422804e-01 -1.38140440e-01 -1.04804450e-01 -7.36609116e-02\n",
      " -4.49018437e-02 -1.86671028e-02  4.95301351e-03  2.59145605e-02\n",
      "  4.42162502e-02  5.98953771e-02  7.30234735e-02  8.37017986e-02\n",
      "  9.20567595e-02  9.82353542e-02  1.02400717e-01  1.04727837e-01\n",
      "  1.05399518e-01  1.04602615e-01  1.02524601e-01  9.93504945e-02\n",
      "  9.52601521e-02  9.04259516e-02  8.50108611e-02  7.91668863e-02\n",
      "  7.30338869e-02  6.67387395e-02  6.03948253e-02  5.41018149e-02\n",
      "  4.79457191e-02  4.19991741e-02  3.63219285e-02  3.09614972e-02\n",
      "  2.59539518e-02  2.13248141e-02  1.70900235e-02  1.32569515e-02\n",
      "  9.82543718e-03  6.78882104e-03  4.13495900e-03  1.84719832e-03\n",
      " -9.46974405e-05 -1.71368561e-03 -3.03465195e-03 -4.08369430e-03\n",
      " -4.88748572e-03 -5.47271844e-03 -5.86562799e-03 -6.09159566e-03\n",
      " -6.17482554e-03 -6.13809200e-03 -6.00255205e-03 -5.78761684e-03\n",
      " -5.51087603e-03 -5.18806856e-03 -4.83309332e-03 -4.45805353e-03\n",
      " -4.07332861e-03 -3.68766777e-03 -3.30830018e-03 -2.94105668e-03\n",
      " -2.59049882e-03 -2.26005129e-03 -1.95213464e-03 -1.66829533e-03\n",
      " -1.40933098e-03 -1.17540902e-03 -9.66177352e-04 -8.26378130e-04\n",
      " -3.34400455e-04]\n"
     ]
    },
    {
     "data": {
      "text/plain": [
       "[<matplotlib.lines.Line2D at 0x7f9b61b92d90>]"
      ]
     },
     "execution_count": 4,
     "metadata": {},
     "output_type": "execute_result"
    },
    {
     "data": {
      "image/png": "[encoded data removed]",
      "text/plain": [
       "<Figure size 432x288 with 1 Axes>"
      ]
     },
     "metadata": {
      "needs_background": "light"
     },
     "output_type": "display_data"
    },
    {
     "data": {
      "image/png": "[encoded data removed]",
      "text/plain": [
       "<Figure size 432x288 with 1 Axes>"
      ]
     },
     "metadata": {
      "needs_background": "light"
     },
     "output_type": "display_data"
    },
    {
     "data": {
      "image/png": "[encoded data removed]",
      "text/plain": [
       "<Figure size 432x288 with 1 Axes>"
      ]
     },
     "metadata": {
      "needs_background": "light"
     },
     "output_type": "display_data"
    },
    {
     "data": {
      "image/png": "[encoded data removed]",
      "text/plain": [
       "<Figure size 432x288 with 1 Axes>"
      ]
     },
     "metadata": {
      "needs_background": "light"
     },
     "output_type": "display_data"
    }
   ],
   "source": [
    "dhdx4tho = nm.deriv_4tho(xx,hh)\n",
    "dhdx_cent = nm.deriv_dnw(xx,hh)\n",
    "anader = ana(xx)\n",
    "\n",
    "plt.plot(xx,dhdx4tho)\n",
    "plt.plot(xx,anader)\n",
    "print(dhdx4tho)\n",
    "\n",
    "plt.figure()\n",
    "plt.plot(xx[-5:],dhdx4tho[-5:])\n",
    "plt.plot(xx[-5:],anader[-5:])\n",
    "\n",
    "plt.figure()\n",
    "plt.plot(xx,hh)\n",
    "plt.figure()\n",
    "err = [np.abs(x-an) for x,an in zip(dhdx4tho,anader)]\n",
    "plt.plot(xx,err)"
   ]
  }
 ],
 "metadata": {
  "kernelspec": {
   "display_name": "Python 3 (ipykernel)",
   "language": "python",
   "name": "python3"
  },
  "language_info": {
   "codemirror_mode": {
    "name": "ipython",
    "version": 3
   },
   "file_extension": ".py",
   "mimetype": "text/x-python",
   "name": "python",
   "nbconvert_exporter": "python",
   "pygments_lexer": "ipython3",
   "version": "3.9.7"
  }
 },
 "nbformat": 4,
 "nbformat_minor": 4
}

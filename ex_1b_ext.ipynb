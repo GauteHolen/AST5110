{
 "cells": [
  {
   "cell_type": "code",
   "execution_count": 1,
   "metadata": {},
   "outputs": [
    {
     "data": {
      "text/plain": [
       "<module 'nm_lib.nm_lib' from '/Users/juanms/Numerical_sim_course/students_2023/phd/Gaute_Amesson_Holen/nm_lib/nm_lib/nm_lib.py'>"
      ]
     },
     "execution_count": 1,
     "metadata": {},
     "output_type": "execute_result"
    }
   ],
   "source": [
    "from matplotlib import style\n",
    "from nm_lib import nm_lib as nm\n",
    "style.use('dark_background')\n",
    "import importlib\n",
    "importlib.reload(nm)"
   ]
  },
  {
   "cell_type": "markdown",
   "metadata": {},
   "source": [
    "# A calculation of the order of convergence when the limit value is unknown"
   ]
  },
  {
   "cell_type": "markdown",
   "metadata": {},
   "source": [
    "## _This problem is an optional extension of the previous exercise sheets_"
   ]
  },
  {
   "cell_type": "markdown",
   "metadata": {},
   "source": [
    "Assume we have determined numerically an approximate value $f_{\\Delta x}$ of a function (for example, of a derivative) using a numerical mesh with grid cells $\\Delta x$. We say that a numerical approximation converges toward a limit value $f_{lim}$ with $m$-order approximation if we can write to leading order for all $\\Delta x$ which are sufficiently small."
   ]
  },
  {
   "cell_type": "markdown",
   "metadata": {},
   "source": [
    "$$f_{\\Delta x} = f_{lim} + A(\\Delta x)^m  \\tag{1}$$"
   ]
  },
  {
   "cell_type": "markdown",
   "metadata": {},
   "source": [
    "with $A$ a constant. If the global domain in $x$ has length $L$ and has been divided into $N$ intervals (so that  $\\Delta x = L/N$), then we have:"
   ]
  },
  {
   "cell_type": "markdown",
   "metadata": {},
   "source": [
    "$$f_N = f_{lim} + A\\left(\\frac{L}{N}\\right)^m  \\tag{2}$$"
   ]
  },
  {
   "cell_type": "markdown",
   "metadata": {},
   "source": [
    "From there it is straightforward to obtain:"
   ]
  },
  {
   "cell_type": "markdown",
   "metadata": {},
   "source": [
    "$$\\frac{f_{4N}-f_{2N}}{f_{2N}-f_{N}} = \\frac{4^{m}-2^{m}}{2^{m}-1} = 2^{m}  \\tag{3}$$"
   ]
  },
  {
   "cell_type": "markdown",
   "metadata": {},
   "source": [
    "or, in other words,"
   ]
  },
  {
   "cell_type": "markdown",
   "metadata": {},
   "source": [
    "$$m = \\log\\left(\\frac{f_{4N}-f_{2N}}{f_{2N}-f_{N}}\\right)/\\log2  \\tag{4}$$"
   ]
  },
  {
   "cell_type": "markdown",
   "metadata": {},
   "source": [
    "with log the natural logarithm. Thus, if we obtain a numerical value for a function at a given point with increasing order of approximation using $N$, $2N$, and $4N$ intervals in a given domain, we can calculate the order $m$ of the approximation using Eq. (4) without having to know in advance the exact analytical limit value. Test this method with `np.deriv_cent` and `np.deriv_4tho` and fill in `nm.order_conv`."
   ]
  },
  {
   "cell_type": "code",
   "execution_count": 2,
   "metadata": {},
   "outputs": [
    {
     "name": "stdout",
     "output_type": "stream",
     "text": [
      "order conv for centered -4.076622045147255\n",
      "order conv for 4th order -1.9890675241957916\n"
     ]
    },
    {
     "data": {
      "text/plain": [
       "Text(0.5, 1.0, 'Order convergence')"
      ]
     },
     "execution_count": 2,
     "metadata": {},
     "output_type": "execute_result"
    },
    {
     "data": {
      "image/png": "[encoded data removed]",
      "text/plain": [
       "<Figure size 640x480 with 1 Axes>"
      ]
     },
     "metadata": {},
     "output_type": "display_data"
    }
   ],
   "source": [
    "import numpy as np\n",
    "#import nm_lib as nm\n",
    "import matplotlib.pyplot as plt\n",
    "\n",
    "nump = 128\n",
    "x0 = -4\n",
    "xf = 10.0\n",
    "\n",
    "\"\"\"\n",
    "def h(x):\n",
    "    return x**2\n",
    "\"\"\"\n",
    "\n",
    "def h(x):\n",
    "    return np.cos(np.pi*(x-1)*0.5)*np.exp(-((x-3)/2.5)**2)\n",
    "\n",
    "def ana(x):\n",
    "    return np.exp(-0.16*(x-3)**2)*((0.96-0.32*x)*np.sin(np.pi*0.5*x)+1.5708*np.cos(np.pi*x*0.5))\n",
    "\n",
    "xx = np.linspace(x0,xf,nump+1)\n",
    "xx2 = np.linspace(x0,xf,2*nump+1)\n",
    "xx4 = np.linspace(x0,xf,4*nump +1)\n",
    "\n",
    "hh = h(xx)\n",
    "hh2 = h(xx2)\n",
    "hh4 = h(xx4)\n",
    "\n",
    "dhdx = nm.deriv_4tho(xx,hh)\n",
    "dhdx2 = nm.deriv_4tho(xx2,hh2)\n",
    "dhdx4 = nm.deriv_4tho(xx4,hh4)\n",
    "\n",
    "m4 = nm.order_conv(dhdx,dhdx2,dhdx4)\n",
    "\n",
    "print(\"order conv for centered\",np.mean(m4))\n",
    "\n",
    "dhdx = nm.deriv_cent(xx,hh)\n",
    "dhdx2 = nm.deriv_cent(xx2,hh2)\n",
    "dhdx4 = nm.deriv_cent(xx4,hh4)\n",
    "\n",
    "m2 = nm.order_conv(dhdx,dhdx2,dhdx4)\n",
    "\n",
    "print(\"order conv for 4th order\",np.mean(m2))\n",
    "\n",
    "plt.plot(xx[1:-1],m2[1:-1],label=\"cent\")\n",
    "plt.plot(xx[2:-2],m4[2:-2],label=\"4tho\")\n",
    "plt.legend()\n",
    "plt.title(\"Order convergence\")\n",
    "\n"
   ]
  },
  {
   "cell_type": "markdown",
   "metadata": {},
   "source": [
    "In the above plot we see that the centered difference converges to 2nd order as expected. The 4th order converges to the 4th order, also as expected."
   ]
  },
  {
   "cell_type": "code",
   "execution_count": 8,
   "metadata": {},
   "outputs": [
    {
     "data": {
      "text/plain": [
       "'\\ndhdx4tho = nm.deriv_4tho(xx,hh)\\ndhdx_cent = nm.deriv_dnw(xx,hh)\\nanader = ana(xx)\\n\\nplt.plot(xx,dhdx4tho)\\nplt.plot(xx,anader)\\n\\nplt.figure()\\nplt.plot(xx[-5:],dhdx4tho[-5:])\\nplt.plot(xx[-5:],anader[-5:])\\n\\nplt.figure()\\nplt.plot(xx,hh)\\nplt.figure()\\nerr = [np.abs(x-an) for x,an in zip(dhdx4tho,anader)]\\nplt.plot(xx[2:-2],err[2:-2])\\n'"
      ]
     },
     "execution_count": 8,
     "metadata": {},
     "output_type": "execute_result"
    }
   ],
   "source": [
    "\"\"\"\n",
    "dhdx4tho = nm.deriv_4tho(xx,hh)\n",
    "dhdx_cent = nm.deriv_dnw(xx,hh)\n",
    "anader = ana(xx)\n",
    "\n",
    "plt.plot(xx,dhdx4tho)\n",
    "plt.plot(xx,anader)\n",
    "\n",
    "plt.figure()\n",
    "plt.plot(xx[-5:],dhdx4tho[-5:])\n",
    "plt.plot(xx[-5:],anader[-5:])\n",
    "\n",
    "plt.figure()\n",
    "plt.plot(xx,hh)\n",
    "plt.figure()\n",
    "err = [np.abs(x-an) for x,an in zip(dhdx4tho,anader)]\n",
    "plt.plot(xx[2:-2],err[2:-2])\n",
    "\"\"\""
   ]
  },
  {
   "attachments": {},
   "cell_type": "markdown",
   "metadata": {},
   "source": [
    "<span style=\"color:green\">JMS</span>.\n",
    "\n",
    "<span style=\"color:blue\">Great job </span>.\n",
    "\n",
    "<span style=\"color:orange\">To be able to run the code I had to change to `from nm_lib import nm_lib as nm` </span>."
   ]
  },
  {
   "cell_type": "markdown",
   "metadata": {},
   "source": []
  }
 ],
 "metadata": {
  "kernelspec": {
   "display_name": "gaute",
   "language": "python",
   "name": "python3"
  },
  "language_info": {
   "codemirror_mode": {
    "name": "ipython",
    "version": 3
   },
   "file_extension": ".py",
   "mimetype": "text/x-python",
   "name": "python",
   "nbconvert_exporter": "python",
   "pygments_lexer": "ipython3",
   "version": "3.10.9"
  },
  "vscode": {
   "interpreter": {
    "hash": "483d07c54d4d8b6f35a10aea903f063a2ff2d2a57d5d81d86ef7c18e9bdf995c"
   }
  }
 },
 "nbformat": 4,
 "nbformat_minor": 4
}

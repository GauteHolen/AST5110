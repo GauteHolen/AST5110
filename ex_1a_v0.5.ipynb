{
 "cells": [
  {
   "cell_type": "markdown",
   "metadata": {},
   "source": [
    "# Discretization of a function of a single variable. Differentiation through finite differences."
   ]
  },
  {
   "cell_type": "markdown",
   "metadata": {},
   "source": [
    "## 1 – Code to represent the function and the analytical and numerical derivative."
   ]
  },
  {
   "cell_type": "markdown",
   "metadata": {},
   "source": [
    "Consider the function"
   ]
  },
  {
   "cell_type": "markdown",
   "metadata": {
    "slideshow": {
     "slide_type": "-"
    }
   },
   "source": [
    "$$h(x) = \\cos\\left[\\frac{\\pi (x-1)}{2}\\right] \\exp\\left[-\\left(\\frac{x-3}{2.5}\\right)^2\\right],\\tag{1}$$"
   ]
  },
  {
   "cell_type": "markdown",
   "metadata": {},
   "source": [
    "with $x \\in (-4,10) $."
   ]
  },
  {
   "cell_type": "markdown",
   "metadata": {},
   "source": [
    "Let us define a sampling of $h$ with 64 intervals, that is, 65 points, and store the\n",
    "values into double precision arrays called $xx$ and $hh$. Numpy arrays are double precision as \n",
    "default. To define $xx$ in Python you can use the commands:"
   ]
  },
  {
   "cell_type": "markdown",
   "metadata": {},
   "source": [
    "`import numpy as np\n",
    "nump=65\n",
    "x0=-4.0 \n",
    "xf=10.0\n",
    "xx = np.arange(nump)/(nump-1.0) * (xf-x0) + x0`\n",
    "\n",
    "Use `matplotlib.pyplot` to visualize hh vs xx. "
   ]
  },
  {
   "cell_type": "code",
   "execution_count": 35,
   "metadata": {},
   "outputs": [
    {
     "name": "stdout",
     "output_type": "stream",
     "text": [
      "stepsize:  0.875  error:  0.12580420651870428\n"
     ]
    },
    {
     "data": {
      "image/png": "[encoded data removed]",
      "text/plain": [
       "<Figure size 432x288 with 1 Axes>"
      ]
     },
     "metadata": {
      "needs_background": "light"
     },
     "output_type": "display_data"
    },
    {
     "data": {
      "image/png": "[encoded data removed]",
      "text/plain": [
       "<Figure size 432x288 with 1 Axes>"
      ]
     },
     "metadata": {
      "needs_background": "light"
     },
     "output_type": "display_data"
    },
    {
     "data": {
      "image/png": "[encoded data removed]",
      "text/plain": [
       "<Figure size 432x288 with 1 Axes>"
      ]
     },
     "metadata": {
      "needs_background": "light"
     },
     "output_type": "display_data"
    }
   ],
   "source": [
    "import numpy as np\n",
    "import matplotlib.pyplot as plt\n",
    "import nm_lib as nm\n",
    "\n",
    "nump = 17\n",
    "x0 = -4\n",
    "xf = 10.0\n",
    "\n",
    "xx = np.linspace(x0,xf,nump)\n",
    "dx = xx[1]-xx[0]\n",
    "#xx = np.arange(nump)/(nump-1) * (xf-x0) + x0\n",
    "\n",
    "def h(x):\n",
    "    return np.cos(np.pi*(x-1)*0.5)*np.exp(-((x-3)/2.5)**2)\n",
    "\n",
    "def deriv(xx,hh):\n",
    "    dh = hh[1:-1]-hh[0:-2]\n",
    "    dx = xx[1:-1]-xx[0:-2]\n",
    "    dhdx = dh/dx\n",
    "    return dhdx\n",
    "\n",
    "def ana(x):\n",
    "    #analytical solutiuon from wolfram alpha because i am lazy\n",
    "    #return 0.5*np.exp(0.16*((x-3)**2))*(0.64*(x-3)*np.sin(np.pi*x*0.5)+np.pi*np.cos(np.pi*x*0.5))\n",
    "    return np.exp(-0.16*(x-3)**2)*((0.96-0.32*x)*np.sin(np.pi*0.5*x)+1.5708*np.cos(np.pi*x*0.5))\n",
    "\n",
    "\n",
    "\n",
    "hh = h(xx)\n",
    "plt.plot(xx,hh, 'x')\n",
    "xx_half = xx[0:-1]+dx*0.5\n",
    "anader = ana(xx_half)\n",
    "plt.xlabel(\"xx\")\n",
    "plt.ylabel(\"hh\")\n",
    "dhdx = nm.deriv_dnw(xx,hh)\n",
    "\n",
    "\n",
    "plt.figure()\n",
    "plt.plot(xx_half,dhdx,\".\", label=\"numeric\")\n",
    "plt.plot(xx_half,anader, \"x\", label=\"analytical\")\n",
    "plt.ylim(-1.5,1.5)\n",
    "plt.legend()\n",
    "plt.xlabel(\"xx\")\n",
    "plt.ylabel(\"derivative\")\n",
    "\n",
    "plt.figure()\n",
    "err = [abs(x-an) for x,an in zip(dhdx,anader)]\n",
    "plt.plot(xx_half,err,\".\", label=\"error\")\n",
    "plt.legend()\n",
    "plt.xlabel(\"xx\")\n",
    "plt.ylabel(\"error in numeric derivative\")\n",
    "\n",
    "print(\"stepsize: \",dx,\" error: \",np.max(err))\n",
    "\n"
   ]
  },
  {
   "cell_type": "markdown",
   "metadata": {},
   "source": [
    "Define the variable $nint$ as the number of intervals ($nint= 64$ in the present case)\n",
    "and $nump$ as the number of points. In IDL, Python and C, those components go\n",
    "from the $0-$component through the component $nump−1$. Compute the ratio (1) in the [wiki](https://github.com/AST-Course/AST5110/wiki/Discretization) using and filling the function `deriv_dnw` in `nm_lib`. Feel free to use any known library or create your own functions from scratch. "
   ]
  },
  {
   "cell_type": "markdown",
   "metadata": {},
   "source": [
    "It will depend on how you created the function that you have $nump$ or $nump−1$ elements. If the former, the last component ($nump-1$) is ill calculated. $hp$ contains a second-order approximation to the derivative of the $hh$ function at the intermediate points $x_{i+1/2}$."
   ]
  },
  {
   "cell_type": "markdown",
   "metadata": {},
   "source": [
    "## Tasks:"
   ]
  },
  {
   "cell_type": "markdown",
   "metadata": {},
   "source": [
    "1. Plot $hh$ versus $xx$ as a solid line with crosses added at each grid point (to visualize the goodness of the discretization) or with `plt.hist` function combined with `plt.plot`. _Make sure the axis pixels are properly located either to the center or half grid shifted_"
   ]
  },
  {
   "cell_type": "markdown",
   "metadata": {},
   "source": [
    "2. Plot the array containing the numerical derivative, $hp$. Calculate analytically the derivative of the function (1) and represent it in the same figure to ascertain the goodness of the approximation for that number of points. __hint__ _make sure the axis pixels are properly located either to the center or half grid shifted_. "
   ]
  },
  {
   "cell_type": "markdown",
   "metadata": {},
   "source": []
  },
  {
   "cell_type": "markdown",
   "metadata": {},
   "source": [
    "3. Repeat the foregoing, but now using $nint= 32$ and $nint= 16$ intervals to see how the approximation deteriorates. Thereafter, repeat the same process for 128 and 256 intervals, to see how it improves. Consider to use `plt.semilogy` for the error. "
   ]
  },
  {
   "cell_type": "markdown",
   "metadata": {},
   "source": [
    "## 2- Test of the quadratic order of the approximation."
   ]
  },
  {
   "cell_type": "markdown",
   "metadata": {},
   "source": [
    "We are going to test if the ratio $(h_{i+1}-h_i)/(x_{i+1}-x_i)$ approaches the analytical value of the derivative. To that end, we will use samplings with, successively, 16, 32, 64, 128, 256, 512 and 1024 intervals (which are successive powers of 2). Calculate the maximum of the absolute value of the error, meaning: the difference between the analytical and the numerical derivatives at the _same points_. Plot a graph of that value versus the size of the interval in each case using a diagram with logarithmic axes. Check if the curve you get corresponds to a quadratic dependence."
   ]
  },
  {
   "cell_type": "code",
   "execution_count": 36,
   "metadata": {},
   "outputs": [
    {
     "data": {
      "text/plain": [
       "Text(0, 0.5, 'max error')"
      ]
     },
     "execution_count": 36,
     "metadata": {},
     "output_type": "execute_result"
    },
    {
     "data": {
      "image/png": "[encoded data removed]",
      "text/plain": [
       "<Figure size 432x288 with 1 Axes>"
      ]
     },
     "metadata": {
      "needs_background": "light"
     },
     "output_type": "display_data"
    }
   ],
   "source": [
    "numps = [x+1 for x in [16,32,64,128,256,512,1024]]\n",
    "x0 = -4\n",
    "xf = 10.0\n",
    "\n",
    "max_err = []\n",
    "stepsizes = []\n",
    "for nump in numps:\n",
    "    xx = np.linspace(x0,xf,nump)\n",
    "    dx = xx[1]-xx[0]\n",
    "    stepsizes.append(dx)\n",
    "    hh = h(xx)\n",
    "    xx_half = xx[0:-1]+dx*0.5   #Halfstep and leaves out the last few values\n",
    "    anader = ana(xx_half)\n",
    "    dhdx = nm.deriv_dnw(xx,hh)\n",
    "    err = [abs(x-an) for x,an in zip(dhdx,anader)]\n",
    "    max_err.append(max(err))\n",
    "\n",
    "plt.plot(stepsizes,max_err,\".\")\n",
    "plt.xlabel(\"stepsize\")\n",
    "plt.ylabel(\"max error\")\n",
    "#plt.semilogy()\n"
   ]
  },
  {
   "cell_type": "markdown",
   "metadata": {},
   "source": [
    "## 3- Improving the accuracy of the test of the quadratic order of the approximation."
   ]
  },
  {
   "cell_type": "markdown",
   "metadata": {},
   "source": [
    "To test the accuracy of the result of the previous paragraph:\n",
    "\n",
    "1. extend the test to a larger range of number of intervals (including 2048, 4096, 8192, 16384). Make sure to use double precision variables throughout the program (meaning: all variables except the array indices).\n",
    "\n",
    "2. then try to fit a straight to the logarithm of the error curves using Python program `numpy.polyfit` and `numpy.poly1d`. From the value of the slope you get from that program, check the accuracy with which you obtain the quadratic dependence."
   ]
  },
  {
   "cell_type": "code",
   "execution_count": 37,
   "metadata": {},
   "outputs": [
    {
     "data": {
      "text/plain": [
       "[]"
      ]
     },
     "execution_count": 37,
     "metadata": {},
     "output_type": "execute_result"
    },
    {
     "data": {
      "image/png": "[encoded data removed]",
      "text/plain": [
       "<Figure size 432x288 with 1 Axes>"
      ]
     },
     "metadata": {
      "needs_background": "light"
     },
     "output_type": "display_data"
    }
   ],
   "source": [
    "numps = [x+1 for x in [16,32,64,128,256,512,1024,2048,4096,8192,16384]]\n",
    "x0 = -4\n",
    "xf = 10.0\n",
    "precision = np.longdouble\n",
    "\n",
    "max_err = []\n",
    "stepsizes = []\n",
    "for nump in numps:\n",
    "    xx = np.linspace(x0,xf,nump, dtype=precision)\n",
    "    dx = xx[1]-xx[0]\n",
    "    stepsizes.append(dx)\n",
    "    hh = h(xx)\n",
    "    xx_half = xx[0:-1]+dx*0.5   #Halfstep and leaves out the last value\n",
    "    anader = ana(xx_half)\n",
    "    dhdx = nm.deriv_dnw(xx,hh)\n",
    "\n",
    "    #Make sure inferred dtype and precision is correct\n",
    "    for val in [dhdx[0],anader[0], xx_half[0], xx[0]]:\n",
    "        if type(val) != precision:\n",
    "                raise TypeError(\"Wrong precision\")\n",
    "\n",
    "\n",
    "    err = [abs(x-an) for x,an in zip(dhdx,anader)]\n",
    "    max_err.append(max(err))\n",
    "\n",
    "plt.plot(stepsizes,max_err,\".\")\n",
    "plt.xlabel(\"stepsize\")\n",
    "plt.ylabel(\"max error\")\n",
    "plt.semilogx()\n",
    "plt.semilogy()"
   ]
  },
  {
   "cell_type": "markdown",
   "metadata": {},
   "source": [
    "## 4- Analytical proof of the order of convergence of the approximation for the derivative (optional)\n",
    "\n",
    "Consider the sampling used in exercise this, assuming that the spacing between grid points is uniform, i.e., $(\\Delta x)_i = \\Delta x$. Write a formal Taylor expansion as follows:\n"
   ]
  },
  {
   "cell_type": "markdown",
   "metadata": {},
   "source": [
    "$$f(x_{i+1}) = f(x_{i+1/2}) + f'(x_{i+1/2})\\frac{\\Delta x}{2} + ...  \\tag{2}$$\n",
    "\n",
    "$$f(x_{i}) = f(x_{i+1/2}) - f'(x_{i+1/2})\\frac{\\Delta x}{2} + ...  \\tag{3}$$"
   ]
  },
  {
   "cell_type": "markdown",
   "metadata": {},
   "source": [
    "including terms up to order $(\\Delta x)^3$. Eliminating terms combining those two expressions, conclude that, as said in the previous exercise sheet, the finite-difference approximation to the derivative at the midpoints $x_{i+1/2}$ carried out there is of 2nd order."
   ]
  }
 ],
 "metadata": {
  "kernelspec": {
   "display_name": "Python 3 (ipykernel)",
   "language": "python",
   "name": "python3"
  },
  "language_info": {
   "codemirror_mode": {
    "name": "ipython",
    "version": 3
   },
   "file_extension": ".py",
   "mimetype": "text/x-python",
   "name": "python",
   "nbconvert_exporter": "python",
   "pygments_lexer": "ipython3",
   "version": "3.9.7"
  }
 },
 "nbformat": 4,
 "nbformat_minor": 4
}
